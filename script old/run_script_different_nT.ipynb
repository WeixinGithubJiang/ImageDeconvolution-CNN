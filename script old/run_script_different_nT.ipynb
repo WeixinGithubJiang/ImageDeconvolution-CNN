{
 "cells": [
  {
   "cell_type": "code",
   "execution_count": null,
   "metadata": {},
   "outputs": [],
   "source": [
    "import load_data \n",
    "import model_utils\n",
    "import run_network\n",
    "import network \n",
    "import matplotlib.pyplot as plt\n",
    "import numpy as np\n",
    "import torch\n",
    "import cv2 as cv\n",
    "import os\n",
    "from torch import nn, optim\n",
    "from torchvision import transforms, utils\n",
    "from torch.autograd import Variable\n",
    "from torch.utils.data import Dataset, DataLoader\n",
    "from skimage.measure import compare_ssim as ssim\n",
    "import csv\n",
    "%matplotlib inline"
   ]
  },
  {
   "cell_type": "code",
   "execution_count": null,
   "metadata": {},
   "outputs": [],
   "source": [
    "path = './data/'\n",
    "filename = 'dataset_batch_3.mat'\n",
    "train_input_dataset,train_output_dataset = load_data.load_dataset(path,filename)\n",
    "print(train_input_dataset.shape,train_output_dataset.shape)"
   ]
  },
  {
   "cell_type": "code",
   "execution_count": null,
   "metadata": {},
   "outputs": [],
   "source": [
    "path = './data/'\n",
    "filename = 'dataset_test.mat'\n",
    "test_input_dataset,test_output_dataset = load_data.load_dataset(path,filename)\n",
    "print(test_input_dataset.shape,test_output_dataset.shape)"
   ]
  },
  {
   "cell_type": "code",
   "execution_count": null,
   "metadata": {},
   "outputs": [],
   "source": [
    "inputs_nums = [25,50,75,100,125,150,175,200]\n",
    "batch_size = 40\n",
    "device = torch.device(\"cuda:0\")"
   ]
  },
  {
   "cell_type": "code",
   "execution_count": null,
   "metadata": {},
   "outputs": [],
   "source": [
    "training_dataset = load_data.DeconvolutionDataset(train_input_dataset,train_output_dataset,\n",
    "                                                  transform=transforms.Compose([load_data.ImageSelect(inputs_nums[7]),\n",
    "                                                                              load_data.ToTensor()]))\n",
    "training_dataloader = DataLoader(training_dataset, batch_size=batch_size,shuffle=True, num_workers=6)"
   ]
  },
  {
   "cell_type": "code",
   "execution_count": null,
   "metadata": {
    "scrolled": true
   },
   "outputs": [],
   "source": [
    "model = network.TestNet()\n",
    "model.to(device)\n",
    "criterion = nn.SmoothL1Loss()\n",
    "\n",
    "optimizer = optim.Adam(model.parameters(), lr=1e-6)\n",
    "num_epochs = 50000\n",
    "\n",
    "run_network.train(training_dataloader,model,criterion, optimizer, num_epochs,device)\n",
    "\n",
    "model_utils.save_model(model, optimizer, path = \"./model/\", filename = 'inputs_200_dataset_1189_epch_50000_testnet.pth')\n",
    "    \n",
    "test_data = np.asarray(np.transpose(test_input_dataset[:4,:inputs_nums[7],:,:],(0,1,2,3)),dtype=np.float32)\n",
    "test_data = torch.from_numpy(test_data)\n",
    "    \n",
    "predict_test = run_network.test(test_data,model,device)"
   ]
  },
  {
   "cell_type": "code",
   "execution_count": null,
   "metadata": {},
   "outputs": [],
   "source": [
    "model_utils.save_model(model, optimizer, path = \"./model/\", filename = 'inputs_200_dataset_1189_epch_6600_testnet.pth')\n",
    "test_data = np.asarray(np.transpose(test_input_dataset[:4,:inputs_nums[7],:,:],(0,1,2,3)),dtype=np.float32)\n",
    "test_data = torch.from_numpy(test_data)\n",
    "    \n",
    "predict_test = run_network.test(test_data,model,device)"
   ]
  },
  {
   "cell_type": "code",
   "execution_count": null,
   "metadata": {},
   "outputs": [],
   "source": [
    "print(predict_test.shape)"
   ]
  },
  {
   "cell_type": "code",
   "execution_count": null,
   "metadata": {},
   "outputs": [],
   "source": [
    "plt.imshow(predict_test[3,0])"
   ]
  },
  {
   "cell_type": "code",
   "execution_count": null,
   "metadata": {},
   "outputs": [],
   "source": [
    "plt.imshow(test_output_dataset[3,:,:])"
   ]
  },
  {
   "cell_type": "code",
   "execution_count": null,
   "metadata": {},
   "outputs": [],
   "source": []
  }
 ],
 "metadata": {
  "kernelspec": {
   "display_name": "Python 3",
   "language": "python",
   "name": "python3"
  },
  "language_info": {
   "codemirror_mode": {
    "name": "ipython",
    "version": 3
   },
   "file_extension": ".py",
   "mimetype": "text/x-python",
   "name": "python",
   "nbconvert_exporter": "python",
   "pygments_lexer": "ipython3",
   "version": "3.5.0"
  }
 },
 "nbformat": 4,
 "nbformat_minor": 2
}
