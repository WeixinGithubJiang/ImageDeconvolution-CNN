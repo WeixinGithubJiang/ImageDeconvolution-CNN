{
 "cells": [
  {
   "cell_type": "code",
   "execution_count": 3,
   "metadata": {},
   "outputs": [],
   "source": [
    "import torch\n",
    "from torch import nn, optim\n",
    "from torch.autograd import Variable\n",
    "import torch.nn.functional as F"
   ]
  },
  {
   "cell_type": "code",
   "execution_count": 6,
   "metadata": {},
   "outputs": [],
   "source": [
    "# simple 4-layer FCN\n",
    "class FullyConvNet_1(nn.Module):\n",
    "    def __init__(self):\n",
    "        super(FullyConvNet, self).__init__()\n",
    "        self.conv1 = nn.Conv2d(200, 100,kernel_size=5, stride=1,padding=2)  # input and output is 1 dimension\n",
    "        self.conv2 = nn.Conv2d(100, 50,kernel_size=7, stride=1,padding=3)\n",
    "        self.conv3 = nn.Conv2d(50, 10,kernel_size=7, stride=1,padding=3)\n",
    "        self.conv4 = nn.Conv2d(10, 1,kernel_size=3, stride=1,padding=1)\n",
    "        self.relu = nn.ReLU()\n",
    "\n",
    "    def forward(self, x):\n",
    "        out_layer1 = self.relu(self.conv1(x))\n",
    "        out_layer2 = self.relu(self.conv2(out_layer1))\n",
    "        out_layer3 = self.relu(self.conv3(out_layer2))\n",
    "        out = self.conv4(out_layer3)\n",
    "        return out"
   ]
  },
  {
   "cell_type": "code",
   "execution_count": 7,
   "metadata": {},
   "outputs": [],
   "source": [
    "# encoding-decoding FCN\n",
    "class FullyConvNet_2(nn.Module):\n",
    "    def __init__(self):\n",
    "        super(FullyConvNet, self).__init__()\n",
    "        self.conv1 = nn.Conv2d(200, 16,kernel_size=1, stride=1,padding=0)  # input and output is 1 dimension\n",
    "        self.conv2 = nn.Conv2d(16, 32,kernel_size=5, stride=1,padding=2)\n",
    "        self.conv3 = nn.Conv2d(32, 64,kernel_size=7, stride=1,padding=3)\n",
    "        self.conv4 = nn.Conv2d(64, 128,kernel_size=3, stride=1,padding=1)\n",
    "        \n",
    "        self.conv5 = nn.Conv2d(128, 64,kernel_size=3, stride=1,padding=1)\n",
    "        self.conv6 = nn.Conv2d(64, 32,kernel_size=7, stride=1,padding=3)\n",
    "        self.conv7 = nn.Conv2d(32, 16,kernel_size=5, stride=1,padding=2)\n",
    "        self.conv8 = nn.Conv2d(16, 1,kernel_size=1, stride=1,padding=1)\n",
    "        self.relu = nn.ReLU()\n",
    "\n",
    "    def forward(self, x):\n",
    "        out_layer1 = self.relu(self.conv1(x))\n",
    "        \n",
    "        out_layer2 = self.relu(F.max_pool2d(self.conv2(out_layer1),2))\n",
    "        out_layer3 = self.relu(F.max_pool2d(self.conv3(out_layer2),2))\n",
    "        out_layer4 = self.relu(F.max_pool2d(self.conv4(out_layer3),2))\n",
    "        \n",
    "        out_layer5 = self.relu(self.conv5(F.upsample(out_layer4,scale_factor=2,mode='bilinear')))\n",
    "        out_layer6 = self.relu(self.conv6(F.upsample(out_layer5,scale_factor=2,mode='bilinear')))\n",
    "        out_layer7 = self.relu(self.conv7(F.upsample(out_layer6,scale_factor=2,mode='bilinear')))\n",
    "        \n",
    "        out = self.conv8(out_layer7)\n",
    "        return out"
   ]
  },
  {
   "cell_type": "code",
   "execution_count": null,
   "metadata": {},
   "outputs": [],
   "source": []
  }
 ],
 "metadata": {
  "kernelspec": {
   "display_name": "Python 3",
   "language": "python",
   "name": "python3"
  },
  "language_info": {
   "codemirror_mode": {
    "name": "ipython",
    "version": 3
   },
   "file_extension": ".py",
   "mimetype": "text/x-python",
   "name": "python",
   "nbconvert_exporter": "python",
   "pygments_lexer": "ipython3",
   "version": "3.5.0"
  }
 },
 "nbformat": 4,
 "nbformat_minor": 2
}
