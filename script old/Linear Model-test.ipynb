{
 "cells": [
  {
   "cell_type": "code",
   "execution_count": null,
   "metadata": {},
   "outputs": [],
   "source": [
    "import numpy as np\n",
    "import matplotlib.pyplot as plt\n",
    "%matplotlib inline"
   ]
  },
  {
   "cell_type": "code",
   "execution_count": null,
   "metadata": {},
   "outputs": [],
   "source": [
    "def generation_data(noise_level):\n",
    "    x = np.asarray(np.linspace(1,10,100),dtype=np.float32)\n",
    "    x.shape = (100,1)\n",
    "    y = np.sin(x)+noise_level*np.random.rand(100,1)\n",
    "    y = np.asarray(y,dtype=np.float32)\n",
    "    return x,y"
   ]
  },
  {
   "cell_type": "code",
   "execution_count": null,
   "metadata": {},
   "outputs": [],
   "source": [
    "in_data,out_data = generation_data(noise_level=0.1)"
   ]
  },
  {
   "cell_type": "code",
   "execution_count": null,
   "metadata": {},
   "outputs": [],
   "source": [
    "plt.plot(in_data,out_data)"
   ]
  },
  {
   "cell_type": "code",
   "execution_count": null,
   "metadata": {},
   "outputs": [],
   "source": [
    "import torch\n",
    "from torch import nn, optim\n",
    "from torch.autograd import Variable"
   ]
  },
  {
   "cell_type": "code",
   "execution_count": null,
   "metadata": {},
   "outputs": [],
   "source": [
    "# Linear Regression Model\n",
    "class LinearRegression(nn.Module):\n",
    "    def __init__(self):\n",
    "        super(LinearRegression, self).__init__()\n",
    "        self.linear1 = nn.Linear(1, 10)  # input and output is 1 dimension\n",
    "        self.relu = nn.ReLU()\n",
    "        self.linear2 = nn.Linear(10,10)\n",
    "        self.linear3 = nn.Linear(10,1)\n",
    "\n",
    "    def forward(self, x):\n",
    "        out_layer1 = self.relu(self.linear1(x))\n",
    "        out_layer2 = self.relu(self.linear2(out_layer1))\n",
    "        out = self.linear3(out_layer2)\n",
    "        return out"
   ]
  },
  {
   "cell_type": "code",
   "execution_count": null,
   "metadata": {},
   "outputs": [],
   "source": [
    "model = LinearRegression()\n",
    "model = nn.DataParallel(model)\n",
    "model.cuda()\n",
    "# 定义loss和优化函数\n",
    "criterion = nn.MSELoss()\n",
    "optimizer = optim.SGD(model.parameters(), lr=1e-5)\n",
    "x_train = torch.from_numpy(in_data)\n",
    "y_train = torch.from_numpy(out_data)"
   ]
  },
  {
   "cell_type": "code",
   "execution_count": null,
   "metadata": {
    "scrolled": true
   },
   "outputs": [],
   "source": [
    "# 开始训练\n",
    "num_epochs = 10000\n",
    "batch_size = 5\n",
    "batch_num_max = 20\n",
    "\n",
    "for epoch in range(num_epochs):\n",
    "    \n",
    "    for batch_num in range(batch_num_max):\n",
    "        x_train = torch.from_numpy(in_data[batch_num*batch_size:batch_num*batch_size+batch_size,:])\n",
    "        y_train = torch.from_numpy(out_data[batch_num*batch_size:batch_num*batch_size+batch_size,:])\n",
    "        inputs = Variable(x_train).cuda()\n",
    "        target = Variable(y_train).cuda()\n",
    "\n",
    "        # forward\n",
    "        out = model(inputs)\n",
    "        loss = criterion(out, target)\n",
    "        # backward\n",
    "        optimizer.zero_grad()\n",
    "        loss.backward()\n",
    "        optimizer.step()\n",
    "\n",
    "    if (epoch+1) % 20 == 0:\n",
    "        print('Epoch[{}/{}], loss: {:.6f}'\n",
    "              .format(epoch+1, num_epochs, loss.data[0]))\n"
   ]
  },
  {
   "cell_type": "code",
   "execution_count": null,
   "metadata": {},
   "outputs": [],
   "source": [
    "model.eval()\n",
    "predict = model(Variable(x_train))\n",
    "predict = predict.data.numpy()"
   ]
  },
  {
   "cell_type": "code",
   "execution_count": null,
   "metadata": {},
   "outputs": [],
   "source": [
    "plt.plot(in_data,out_data,in_data,predict)"
   ]
  },
  {
   "cell_type": "code",
   "execution_count": null,
   "metadata": {},
   "outputs": [],
   "source": []
  }
 ],
 "metadata": {
  "kernelspec": {
   "display_name": "Python 3",
   "language": "python",
   "name": "python3"
  },
  "language_info": {
   "codemirror_mode": {
    "name": "ipython",
    "version": 3
   },
   "file_extension": ".py",
   "mimetype": "text/x-python",
   "name": "python",
   "nbconvert_exporter": "python",
   "pygments_lexer": "ipython3",
   "version": "3.5.0"
  }
 },
 "nbformat": 4,
 "nbformat_minor": 2
}
