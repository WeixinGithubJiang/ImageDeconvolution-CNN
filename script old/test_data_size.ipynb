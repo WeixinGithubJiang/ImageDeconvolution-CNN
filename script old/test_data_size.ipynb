{
 "cells": [
  {
   "cell_type": "code",
   "execution_count": null,
   "metadata": {},
   "outputs": [],
   "source": [
    "import numpy as np\n",
    "import matplotlib.pyplot as plt\n",
    "%matplotlib inline"
   ]
  },
  {
   "cell_type": "code",
   "execution_count": null,
   "metadata": {},
   "outputs": [],
   "source": [
    "import h5py\n",
    "import numpy as np\n",
    "import torch\n",
    "from torch.utils.data import Dataset, DataLoader\n",
    "from torchvision import transforms, utils"
   ]
  },
  {
   "cell_type": "code",
   "execution_count": null,
   "metadata": {},
   "outputs": [],
   "source": [
    "def generate_dataset(amount, length, freedom):\n",
    "    x = np.random.rand(amount,length)\n",
    "    y = np.sum(x[:,:freedom],axis=1)\n",
    "    y.shape=(100,1)\n",
    "    return np.asarray(x,dtype=np.float32),np.asarray(y,dtype=np.float32)"
   ]
  },
  {
   "cell_type": "code",
   "execution_count": null,
   "metadata": {},
   "outputs": [],
   "source": [
    "input_dataset,output_dataset = generate_dataset(100,10000,10)\n",
    "print(input_dataset.shape,output_dataset.shape)"
   ]
  },
  {
   "cell_type": "code",
   "execution_count": null,
   "metadata": {},
   "outputs": [],
   "source": [
    "# class DeconvolutionDataset(Dataset):\n",
    "#     \"\"\"dataset.\"\"\"\n",
    "\n",
    "#     def __init__(self, input_dataset,output_dataset, transform=None):\n",
    "#         \"\"\"\n",
    "\n",
    "#         \"\"\"\n",
    "#         self.input_dataset = input_dataset\n",
    "#         self.output_dataset = output_dataset\n",
    "#         self.transform = transform\n",
    "\n",
    "#     def __len__(self):\n",
    "#         return len(self.output_dataset)\n",
    "\n",
    "#     def __getitem__(self, idx):\n",
    "\n",
    "#         sample = {'input': self.input_dataset[idx,:], 'output': self.output_dataset[idx,:]}\n",
    "        \n",
    "#         if self.transform:\n",
    "#             sample = self.transform(sample)\n",
    "\n",
    "#         return sample\n",
    "\n",
    "\n",
    "# # In[4]:\n",
    "\n",
    "\n",
    "# class ToTensor(object):\n",
    "#     \"\"\"Convert ndarrays in sample to Tensors.\"\"\"\n",
    "\n",
    "#     def __call__(self, sample):\n",
    "#         input_image, output_image = sample['input'], sample['output']\n",
    "#         return {'input': torch.from_numpy(input_image),\n",
    "#                 'output': torch.from_numpy(output_image)}\n"
   ]
  },
  {
   "cell_type": "code",
   "execution_count": null,
   "metadata": {},
   "outputs": [],
   "source": [
    "# training_dataset = DeconvolutionDataset(input_dataset,output_dataset,transform=ToTensor())\n",
    "# print(training_dataset)\n",
    "# dataloader = DataLoader(training_dataset, batch_size=1,shuffle=True, num_workers=4)\n",
    "# for batch_idx, sample in enumerate(dataloader):\n",
    "#     print(sample['input'].size(),sample['output'].size())"
   ]
  },
  {
   "cell_type": "code",
   "execution_count": null,
   "metadata": {},
   "outputs": [],
   "source": [
    "import torch\n",
    "from torch import nn, optim\n",
    "from torch.autograd import Variable"
   ]
  },
  {
   "cell_type": "code",
   "execution_count": null,
   "metadata": {},
   "outputs": [],
   "source": [
    "# Linear Regression Model\n",
    "class LinearRegression(nn.Module):\n",
    "    def __init__(self):\n",
    "        super(LinearRegression, self).__init__()\n",
    "        self.linear1 = nn.Linear(10000, 100)  # input and output is 1 dimension\n",
    "        self.relu = nn.ReLU()\n",
    "        self.linear2 = nn.Linear(100,1)\n",
    "\n",
    "    def forward(self, x):\n",
    "        out_layer1 = self.relu(self.linear1(x))\n",
    "        out = self.linear2(out_layer1)\n",
    "        return out"
   ]
  },
  {
   "cell_type": "code",
   "execution_count": null,
   "metadata": {},
   "outputs": [],
   "source": [
    "device = torch.device(\"cuda:0\")\n",
    "model = LinearRegression()\n",
    "model.to(device)\n",
    "criterion = nn.MSELoss()\n",
    "optimizer = optim.SGD(model.parameters(), lr=1e-3)\n",
    "x_train = torch.from_numpy(input_dataset)\n",
    "y_train = torch.from_numpy(output_dataset)"
   ]
  },
  {
   "cell_type": "code",
   "execution_count": null,
   "metadata": {},
   "outputs": [],
   "source": [
    "num_epochs = 10000\n",
    "for epoch in range(num_epochs):\n",
    "    inputs = Variable(x_train).cuda()\n",
    "    target = Variable(y_train).cuda()\n",
    "    \n",
    "    # forward\n",
    "    out = model(inputs)\n",
    "    loss = criterion(out, target)\n",
    "    # backward\n",
    "    optimizer.zero_grad()\n",
    "    loss.backward()\n",
    "    optimizer.step()\n",
    "    \n",
    "#     for batch_idx, sample in enumerate(dataloader):\n",
    "#         inputs,target = sample['input'].to(device),sample['output'].to(device)\n",
    "\n",
    "#         # forward\n",
    "#         out = model(inputs)\n",
    "#         loss = criterion(out, target)\n",
    "#         # backward\n",
    "#         optimizer.zero_grad()\n",
    "#         loss.backward()\n",
    "#         optimizer.step()\n",
    "\n",
    "    if (epoch+1) % 20 == 0:\n",
    "        print('Epoch[{}/{}], loss: {:.6f}'\n",
    "              .format(epoch+1, num_epochs, loss.data[0]))\n"
   ]
  },
  {
   "cell_type": "code",
   "execution_count": null,
   "metadata": {},
   "outputs": [],
   "source": [
    "model.eval()\n",
    "predict = model(Variable(x_train).cuda())\n",
    "predict = predict.data.cpu().numpy()"
   ]
  },
  {
   "cell_type": "code",
   "execution_count": null,
   "metadata": {},
   "outputs": [],
   "source": [
    "plt.plot(output_dataset)"
   ]
  },
  {
   "cell_type": "code",
   "execution_count": null,
   "metadata": {},
   "outputs": [],
   "source": [
    "plt.plot(predict)"
   ]
  },
  {
   "cell_type": "code",
   "execution_count": null,
   "metadata": {},
   "outputs": [],
   "source": []
  }
 ],
 "metadata": {
  "kernelspec": {
   "display_name": "Python 3",
   "language": "python",
   "name": "python3"
  },
  "language_info": {
   "codemirror_mode": {
    "name": "ipython",
    "version": 3
   },
   "file_extension": ".py",
   "mimetype": "text/x-python",
   "name": "python",
   "nbconvert_exporter": "python",
   "pygments_lexer": "ipython3",
   "version": "3.5.0"
  }
 },
 "nbformat": 4,
 "nbformat_minor": 2
}
