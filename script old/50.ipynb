{
 "cells": [
  {
   "cell_type": "code",
   "execution_count": 1,
   "metadata": {},
   "outputs": [],
   "source": [
    "import load_data \n",
    "import network \n",
    "import matplotlib.pyplot as plt\n",
    "import numpy as np\n",
    "import torch\n",
    "from torch import nn, optim\n",
    "from torchvision import transforms, utils\n",
    "from torch.autograd import Variable\n",
    "from torch.utils.data import Dataset, DataLoader\n",
    "%matplotlib inline"
   ]
  },
  {
   "cell_type": "code",
   "execution_count": 2,
   "metadata": {},
   "outputs": [
    {
     "name": "stdout",
     "output_type": "stream",
     "text": [
      "(1189, 200, 128, 128) (1189, 128, 128)\n"
     ]
    }
   ],
   "source": [
    "path = './data/'\n",
    "filename = 'dataset_batch_3.mat'\n",
    "train_input_dataset,train_output_dataset = load_data.load_dataset(path,filename)\n",
    "print(train_input_dataset.shape,train_output_dataset.shape)"
   ]
  },
  {
   "cell_type": "code",
   "execution_count": 3,
   "metadata": {},
   "outputs": [
    {
     "name": "stdout",
     "output_type": "stream",
     "text": [
      "(528, 200, 128, 128) (528, 128, 128)\n"
     ]
    }
   ],
   "source": [
    "# path = './data/'\n",
    "# filename = 'dataset_batch_2.mat'\n",
    "# test_input_dataset,test_output_dataset = load_data.load_dataset(path,filename)\n",
    "# print(test_input_dataset.shape,test_output_dataset.shape)\n",
    "# testing_dataset = load_data.DeconvolutionDataset(test_input_dataset,test_output_dataset,transform=load_data.ToTensor())"
   ]
  },
  {
   "cell_type": "code",
   "execution_count": 4,
   "metadata": {},
   "outputs": [],
   "source": [
    "training_dataset = load_data.DeconvolutionDataset(train_input_dataset,train_output_dataset,\n",
    "                                                  transform=transforms.Compose([load_data.ImageSelect(50),\n",
    "                                                                              load_data.ToTensor()]))\n",
    "dataloader = DataLoader(training_dataset, batch_size=80,shuffle=True, num_workers=4)"
   ]
  },
  {
   "cell_type": "code",
   "execution_count": 7,
   "metadata": {},
   "outputs": [],
   "source": [
    "device = torch.device(\"cuda:0\")\n",
    "model = network.FullyConvNet_50()\n",
    "# model = nn.DataParallel(model)\n",
    "# model.cuda()\n",
    "model.to(device)\n",
    "\n",
    "# criterion = nn.MSELoss()\n",
    "criterion = nn.SmoothL1Loss()\n",
    "# optimizer = optim.SGD(model.parameters(), lr=1e-9)\n",
    "optimizer = optim.Adam(model.parameters(), lr=1e-6)"
   ]
  },
  {
   "cell_type": "code",
   "execution_count": 8,
   "metadata": {
    "scrolled": true
   },
   "outputs": [
    {
     "name": "stderr",
     "output_type": "stream",
     "text": [
      "/home/weixin/anaconda3/lib/python3.5/site-packages/ipykernel_launcher.py:20: UserWarning: invalid index of a 0-dim tensor. This will be an error in PyTorch 0.5. Use tensor.item() to convert a 0-dim tensor to a Python number\n"
     ]
    },
    {
     "name": "stdout",
     "output_type": "stream",
     "text": [
      "Epoch[1/10000], loss: 0.033901\n",
      "Epoch[2/10000], loss: 0.021665\n",
      "Epoch[3/10000], loss: 0.019117\n",
      "Epoch[4/10000], loss: 0.019468\n",
      "Epoch[5/10000], loss: 0.016251\n",
      "Epoch[6/10000], loss: 0.016184\n",
      "Epoch[7/10000], loss: 0.013889\n",
      "Epoch[8/10000], loss: 0.013327\n",
      "Epoch[9/10000], loss: 0.013244\n",
      "Epoch[10/10000], loss: 0.012829\n",
      "Epoch[11/10000], loss: 0.012549\n",
      "Epoch[12/10000], loss: 0.012762\n",
      "Epoch[13/10000], loss: 0.011868\n",
      "Epoch[14/10000], loss: 0.010772\n",
      "Epoch[15/10000], loss: 0.009934\n",
      "Epoch[16/10000], loss: 0.009521\n",
      "Epoch[17/10000], loss: 0.009529\n",
      "Epoch[18/10000], loss: 0.008975\n",
      "Epoch[19/10000], loss: 0.008442\n",
      "Epoch[20/10000], loss: 0.008983\n",
      "Epoch[21/10000], loss: 0.008172\n",
      "Epoch[22/10000], loss: 0.007920\n",
      "Epoch[23/10000], loss: 0.008165\n",
      "Epoch[24/10000], loss: 0.007857\n",
      "Epoch[25/10000], loss: 0.007889\n",
      "Epoch[26/10000], loss: 0.008124\n",
      "Epoch[27/10000], loss: 0.008083\n",
      "Epoch[28/10000], loss: 0.007436\n",
      "Epoch[29/10000], loss: 0.007826\n",
      "Epoch[30/10000], loss: 0.007478\n",
      "Epoch[31/10000], loss: 0.007133\n",
      "Epoch[32/10000], loss: 0.006889\n",
      "Epoch[33/10000], loss: 0.007095\n",
      "Epoch[34/10000], loss: 0.007061\n",
      "Epoch[35/10000], loss: 0.006801\n",
      "Epoch[36/10000], loss: 0.006656\n",
      "Epoch[37/10000], loss: 0.006805\n",
      "Epoch[38/10000], loss: 0.006690\n",
      "Epoch[39/10000], loss: 0.006466\n",
      "Epoch[40/10000], loss: 0.006673\n",
      "Epoch[41/10000], loss: 0.006308\n",
      "Epoch[42/10000], loss: 0.006692\n",
      "Epoch[43/10000], loss: 0.005994\n",
      "Epoch[44/10000], loss: 0.006264\n",
      "Epoch[45/10000], loss: 0.006264\n",
      "Epoch[46/10000], loss: 0.006404\n",
      "Epoch[47/10000], loss: 0.006030\n",
      "Epoch[48/10000], loss: 0.005990\n",
      "Epoch[49/10000], loss: 0.006441\n",
      "Epoch[50/10000], loss: 0.006394\n",
      "Epoch[51/10000], loss: 0.005927\n",
      "Epoch[52/10000], loss: 0.005956\n",
      "Epoch[53/10000], loss: 0.005592\n",
      "Epoch[54/10000], loss: 0.005924\n",
      "Epoch[55/10000], loss: 0.005680\n",
      "Epoch[56/10000], loss: 0.005713\n",
      "Epoch[57/10000], loss: 0.005917\n",
      "Epoch[58/10000], loss: 0.005683\n",
      "Epoch[59/10000], loss: 0.005555\n",
      "Epoch[60/10000], loss: 0.005432\n",
      "Epoch[61/10000], loss: 0.005684\n",
      "Epoch[62/10000], loss: 0.005090\n",
      "Epoch[63/10000], loss: 0.005374\n",
      "Epoch[64/10000], loss: 0.005179\n",
      "Epoch[65/10000], loss: 0.005169\n",
      "Epoch[66/10000], loss: 0.005422\n",
      "Epoch[67/10000], loss: 0.005353\n",
      "Epoch[68/10000], loss: 0.005102\n",
      "Epoch[69/10000], loss: 0.005033\n",
      "Epoch[70/10000], loss: 0.005138\n",
      "Epoch[71/10000], loss: 0.004887\n",
      "Epoch[72/10000], loss: 0.004949\n",
      "Epoch[73/10000], loss: 0.005058\n",
      "Epoch[74/10000], loss: 0.004994\n",
      "Epoch[75/10000], loss: 0.005092\n",
      "Epoch[76/10000], loss: 0.004975\n",
      "Epoch[77/10000], loss: 0.005140\n",
      "Epoch[78/10000], loss: 0.004862\n",
      "Epoch[79/10000], loss: 0.004806\n",
      "Epoch[80/10000], loss: 0.004433\n",
      "Epoch[81/10000], loss: 0.004550\n",
      "Epoch[82/10000], loss: 0.004862\n",
      "Epoch[83/10000], loss: 0.004629\n",
      "Epoch[84/10000], loss: 0.004473\n",
      "Epoch[85/10000], loss: 0.004346\n",
      "Epoch[86/10000], loss: 0.004607\n",
      "Epoch[87/10000], loss: 0.004433\n",
      "Epoch[88/10000], loss: 0.004305\n",
      "Epoch[89/10000], loss: 0.004434\n",
      "Epoch[90/10000], loss: 0.004263\n",
      "Epoch[91/10000], loss: 0.004153\n",
      "Epoch[92/10000], loss: 0.004064\n",
      "Epoch[93/10000], loss: 0.004379\n",
      "Epoch[94/10000], loss: 0.004376\n",
      "Epoch[95/10000], loss: 0.003992\n",
      "Epoch[96/10000], loss: 0.003883\n",
      "Epoch[97/10000], loss: 0.004113\n",
      "Epoch[98/10000], loss: 0.004010\n",
      "Epoch[99/10000], loss: 0.003871\n",
      "Epoch[100/10000], loss: 0.004136\n"
     ]
    },
    {
     "name": "stderr",
     "output_type": "stream",
     "text": [
      "/home/weixin/anaconda3/lib/python3.5/site-packages/ipykernel_launcher.py:23: UserWarning: invalid index of a 0-dim tensor. This will be an error in PyTorch 0.5. Use tensor.item() to convert a 0-dim tensor to a Python number\n"
     ]
    },
    {
     "name": "stdout",
     "output_type": "stream",
     "text": [
      "Epoch[200/10000], loss: 0.001931\n",
      "Epoch[300/10000], loss: 0.001359\n",
      "Epoch[400/10000], loss: 0.001135\n",
      "Epoch[500/10000], loss: 0.000806\n",
      "Epoch[600/10000], loss: 0.000668\n",
      "Epoch[700/10000], loss: 0.000684\n",
      "Epoch[800/10000], loss: 0.000655\n",
      "Epoch[900/10000], loss: 0.000512\n",
      "Epoch[1000/10000], loss: 0.000515\n",
      "Epoch[1100/10000], loss: 0.000586\n",
      "Epoch[1200/10000], loss: 0.000440\n",
      "Epoch[1300/10000], loss: 0.000481\n",
      "Epoch[1400/10000], loss: 0.000513\n",
      "Epoch[1500/10000], loss: 0.000537\n",
      "Epoch[1600/10000], loss: 0.000575\n",
      "Epoch[1700/10000], loss: 0.000464\n",
      "Epoch[1800/10000], loss: 0.000450\n",
      "Epoch[1900/10000], loss: 0.000420\n",
      "Epoch[2000/10000], loss: 0.000545\n",
      "Epoch[2100/10000], loss: 0.000433\n",
      "Epoch[2200/10000], loss: 0.000515\n",
      "Epoch[2300/10000], loss: 0.000477\n",
      "Epoch[2400/10000], loss: 0.000457\n",
      "Epoch[2500/10000], loss: 0.000419\n",
      "Epoch[2600/10000], loss: 0.000371\n",
      "Epoch[2700/10000], loss: 0.000341\n",
      "Epoch[2800/10000], loss: 0.000384\n",
      "Epoch[2900/10000], loss: 0.000348\n",
      "Epoch[3000/10000], loss: 0.000390\n",
      "Epoch[3100/10000], loss: 0.000427\n",
      "Epoch[3200/10000], loss: 0.000467\n",
      "Epoch[3300/10000], loss: 0.000323\n",
      "Epoch[3400/10000], loss: 0.000468\n",
      "Epoch[3500/10000], loss: 0.000493\n",
      "Epoch[3600/10000], loss: 0.000432\n",
      "Epoch[3700/10000], loss: 0.000424\n",
      "Epoch[3800/10000], loss: 0.000462\n",
      "Epoch[3900/10000], loss: 0.000400\n",
      "Epoch[4000/10000], loss: 0.000392\n",
      "Epoch[4100/10000], loss: 0.000391\n",
      "Epoch[4200/10000], loss: 0.000353\n",
      "Epoch[4300/10000], loss: 0.000431\n",
      "Epoch[4400/10000], loss: 0.000415\n",
      "Epoch[4500/10000], loss: 0.000344\n",
      "Epoch[4600/10000], loss: 0.000408\n",
      "Epoch[4700/10000], loss: 0.000441\n",
      "Epoch[4800/10000], loss: 0.000379\n",
      "Epoch[4900/10000], loss: 0.000406\n",
      "Epoch[5000/10000], loss: 0.000439\n",
      "Epoch[5100/10000], loss: 0.000473\n",
      "Epoch[5200/10000], loss: 0.000406\n",
      "Epoch[5300/10000], loss: 0.000346\n",
      "Epoch[5400/10000], loss: 0.000410\n",
      "Epoch[5500/10000], loss: 0.000413\n",
      "Epoch[5600/10000], loss: 0.000371\n",
      "Epoch[5700/10000], loss: 0.000478\n",
      "Epoch[5800/10000], loss: 0.000414\n",
      "Epoch[5900/10000], loss: 0.000312\n",
      "Epoch[6000/10000], loss: 0.000367\n",
      "Epoch[6100/10000], loss: 0.000441\n",
      "Epoch[6200/10000], loss: 0.000481\n",
      "Epoch[6300/10000], loss: 0.000425\n",
      "Epoch[6400/10000], loss: 0.000464\n",
      "Epoch[6500/10000], loss: 0.000414\n",
      "Epoch[6600/10000], loss: 0.000437\n",
      "Epoch[6700/10000], loss: 0.000482\n",
      "Epoch[6800/10000], loss: 0.000336\n",
      "Epoch[6900/10000], loss: 0.000316\n",
      "Epoch[7000/10000], loss: 0.000411\n",
      "Epoch[7100/10000], loss: 0.000368\n",
      "Epoch[7200/10000], loss: 0.000376\n",
      "Epoch[7300/10000], loss: 0.000425\n",
      "Epoch[7400/10000], loss: 0.000452\n",
      "Epoch[7500/10000], loss: 0.000407\n",
      "Epoch[7600/10000], loss: 0.000374\n",
      "Epoch[7700/10000], loss: 0.000398\n",
      "Epoch[7800/10000], loss: 0.000445\n",
      "Epoch[7900/10000], loss: 0.000472\n",
      "Epoch[8000/10000], loss: 0.000388\n",
      "Epoch[8100/10000], loss: 0.000271\n",
      "Epoch[8200/10000], loss: 0.000364\n",
      "Epoch[8300/10000], loss: 0.000433\n",
      "Epoch[8400/10000], loss: 0.000391\n",
      "Epoch[8500/10000], loss: 0.000322\n",
      "Epoch[8600/10000], loss: 0.000396\n",
      "Epoch[8700/10000], loss: 0.000508\n",
      "Epoch[8800/10000], loss: 0.000374\n",
      "Epoch[8900/10000], loss: 0.000409\n",
      "Epoch[9000/10000], loss: 0.000387\n",
      "Epoch[9100/10000], loss: 0.000397\n",
      "Epoch[9200/10000], loss: 0.000419\n",
      "Epoch[9300/10000], loss: 0.000444\n",
      "Epoch[9400/10000], loss: 0.000401\n",
      "Epoch[9500/10000], loss: 0.000445\n",
      "Epoch[9600/10000], loss: 0.000393\n",
      "Epoch[9700/10000], loss: 0.000396\n",
      "Epoch[9800/10000], loss: 0.000411\n",
      "Epoch[9900/10000], loss: 0.000408\n",
      "Epoch[10000/10000], loss: 0.000382\n"
     ]
    }
   ],
   "source": [
    "num_epochs = 10000\n",
    "for epoch in range(num_epochs):\n",
    "    for batch_idx, sample in enumerate(dataloader):\n",
    "        inputs,target = sample['input'].to(device),sample['output'].to(device)\n",
    "#         inputs,target = sample['input'].cuda(),sample['output'].cuda()\n",
    "        \n",
    "#         inputs = Variable(x_train).cuda()\n",
    "#         target = Variable(y_train).cuda()\n",
    "\n",
    "        # forward\n",
    "        out = model(inputs)\n",
    "        loss = criterion(out, target)\n",
    "        # backward\n",
    "        optimizer.zero_grad()\n",
    "        loss.backward()\n",
    "        optimizer.step()\n",
    "\n",
    "    if epoch < 100:\n",
    "        print('Epoch[{}/{}], loss: {:.6f}'\n",
    "              .format(epoch+1, num_epochs, loss.data[0]))\n",
    "    elif (epoch+1) % 100 == 0:\n",
    "        print('Epoch[{}/{}], loss: {:.6f}'\n",
    "              .format(epoch+1, num_epochs, loss.data[0]))\n"
   ]
  },
  {
   "cell_type": "code",
   "execution_count": 9,
   "metadata": {
    "scrolled": true
   },
   "outputs": [
    {
     "data": {
      "text/plain": [
       "FullyConvNet_50(\n",
       "  (conv1): Conv2d(50, 100, kernel_size=(5, 5), stride=(1, 1), padding=(2, 2))\n",
       "  (conv2): Conv2d(100, 50, kernel_size=(7, 7), stride=(1, 1), padding=(3, 3))\n",
       "  (conv3): Conv2d(50, 10, kernel_size=(7, 7), stride=(1, 1), padding=(3, 3))\n",
       "  (conv4): Conv2d(10, 1, kernel_size=(3, 3), stride=(1, 1), padding=(1, 1))\n",
       "  (relu): ReLU()\n",
       ")"
      ]
     },
     "execution_count": 9,
     "metadata": {},
     "output_type": "execute_result"
    }
   ],
   "source": [
    "model.eval()"
   ]
  },
  {
   "cell_type": "code",
   "execution_count": null,
   "metadata": {},
   "outputs": [],
   "source": [
    "# print(len(training_dataset),len(testing_dataset))\n",
    "# print(training_dataset)"
   ]
  },
  {
   "cell_type": "code",
   "execution_count": null,
   "metadata": {},
   "outputs": [],
   "source": [
    "# train_data = np.asarray(np.transpose(train_input_dataset[:100,:,:,:],(0,1,2,3)),dtype=np.float32)\n",
    "# train_data = torch.from_numpy(train_data)\n",
    "# predict = model(train_data.to(device))\n",
    "# predict_train = predict.data.cpu().numpy()"
   ]
  },
  {
   "cell_type": "code",
   "execution_count": null,
   "metadata": {},
   "outputs": [],
   "source": [
    "# print(predict_train.shape)"
   ]
  },
  {
   "cell_type": "code",
   "execution_count": null,
   "metadata": {},
   "outputs": [],
   "source": [
    "# plt.imshow(predict_train[20,0,:,:])"
   ]
  },
  {
   "cell_type": "code",
   "execution_count": null,
   "metadata": {},
   "outputs": [],
   "source": [
    "# plt.imshow(train_output_dataset[20,:,:])"
   ]
  },
  {
   "cell_type": "code",
   "execution_count": null,
   "metadata": {},
   "outputs": [],
   "source": [
    "# plt.imshow(train_input_dataset[20,190,:,:])"
   ]
  },
  {
   "cell_type": "code",
   "execution_count": 10,
   "metadata": {},
   "outputs": [],
   "source": [
    "path = './data/'\n",
    "filename = 'dataset_test.mat'\n",
    "test_input_dataset,test_output_dataset = load_data.load_dataset(path,filename)"
   ]
  },
  {
   "cell_type": "code",
   "execution_count": 11,
   "metadata": {},
   "outputs": [
    {
     "name": "stdout",
     "output_type": "stream",
     "text": [
      "(4, 1, 128, 128)\n"
     ]
    }
   ],
   "source": [
    "test_data = np.asarray(np.transpose(test_input_dataset[:4,:50,:,:],(0,1,2,3)),dtype=np.float32)\n",
    "test_data = torch.from_numpy(test_data)\n",
    "predict = model(test_data.to(device))\n",
    "predict_test = predict.data.cpu().numpy()\n",
    "print(predict_test.shape)"
   ]
  },
  {
   "cell_type": "code",
   "execution_count": 41,
   "metadata": {},
   "outputs": [
    {
     "data": {
      "text/plain": [
       "<matplotlib.image.AxesImage at 0x7f2635b03b70>"
      ]
     },
     "execution_count": 41,
     "metadata": {},
     "output_type": "execute_result"
    },
    {
     "data": {
      "image/png": "[encoded data removed]",
      "text/plain": [
       "<matplotlib.figure.Figure at 0x7f2635baea58>"
      ]
     },
     "metadata": {},
     "output_type": "display_data"
    }
   ],
   "source": [
    "plt.imshow(predict_test[3,0,:,:])"
   ]
  },
  {
   "cell_type": "code",
   "execution_count": 42,
   "metadata": {},
   "outputs": [
    {
     "data": {
      "text/plain": [
       "<matplotlib.image.AxesImage at 0x7f2635a70198>"
      ]
     },
     "execution_count": 42,
     "metadata": {},
     "output_type": "execute_result"
    },
    {
     "data": {
      "image/png": "[encoded data removed]",
      "text/plain": [
       "<matplotlib.figure.Figure at 0x7f2635b250b8>"
      ]
     },
     "metadata": {},
     "output_type": "display_data"
    }
   ],
   "source": [
    "plt.imshow(test_output_dataset[3,:,:])"
   ]
  },
  {
   "cell_type": "code",
   "execution_count": 44,
   "metadata": {},
   "outputs": [
    {
     "data": {
      "text/plain": [
       "<matplotlib.image.AxesImage at 0x7f26359bcf28>"
      ]
     },
     "execution_count": 44,
     "metadata": {},
     "output_type": "execute_result"
    },
    {
     "data": {
      "image/png": "[encoded data removed]",
      "text/plain": [
       "<matplotlib.figure.Figure at 0x7f26359f8e10>"
      ]
     },
     "metadata": {},
     "output_type": "display_data"
    }
   ],
   "source": [
    "plt.imshow(test_input_dataset[3,9,:,:])"
   ]
  },
  {
   "cell_type": "code",
   "execution_count": null,
   "metadata": {},
   "outputs": [],
   "source": []
  }
 ],
 "metadata": {
  "kernelspec": {
   "display_name": "Python 3",
   "language": "python",
   "name": "python3"
  },
  "language_info": {
   "codemirror_mode": {
    "name": "ipython",
    "version": 3
   },
   "file_extension": ".py",
   "mimetype": "text/x-python",
   "name": "python",
   "nbconvert_exporter": "python",
   "pygments_lexer": "ipython3",
   "version": "3.5.0"
  }
 },
 "nbformat": 4,
 "nbformat_minor": 2
}
