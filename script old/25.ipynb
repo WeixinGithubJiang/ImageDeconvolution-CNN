{
 "cells": [
  {
   "cell_type": "code",
   "execution_count": null,
   "metadata": {},
   "outputs": [],
   "source": [
    "import load_data \n",
    "import network \n",
    "import matplotlib.pyplot as plt\n",
    "import numpy as np\n",
    "import torch\n",
    "from torch import nn, optim\n",
    "from torchvision import transforms, utils\n",
    "from torch.autograd import Variable\n",
    "from torch.utils.data import Dataset, DataLoader\n",
    "%matplotlib inline"
   ]
  },
  {
   "cell_type": "code",
   "execution_count": null,
   "metadata": {},
   "outputs": [],
   "source": [
    "path = './data/'\n",
    "filename = 'dataset_batch_3.mat'\n",
    "train_input_dataset,train_output_dataset = load_data.load_dataset(path,filename)\n",
    "print(train_input_dataset.shape,train_output_dataset.shape)"
   ]
  },
  {
   "cell_type": "code",
   "execution_count": null,
   "metadata": {},
   "outputs": [],
   "source": [
    "# path = './data/'\n",
    "# filename = 'dataset_batch_2.mat'\n",
    "# test_input_dataset,test_output_dataset = load_data.load_dataset(path,filename)\n",
    "# print(test_input_dataset.shape,test_output_dataset.shape)\n",
    "# testing_dataset = load_data.DeconvolutionDataset(test_input_dataset,test_output_dataset,transform=load_data.ToTensor())"
   ]
  },
  {
   "cell_type": "code",
   "execution_count": null,
   "metadata": {},
   "outputs": [],
   "source": [
    "training_dataset = load_data.DeconvolutionDataset(train_input_dataset,train_output_dataset,\n",
    "                                                  transform=transforms.Compose([load_data.ImageSelect(25),\n",
    "                                                                              load_data.ToTensor()]))\n",
    "dataloader = DataLoader(training_dataset, batch_size=80,shuffle=True, num_workers=4)"
   ]
  },
  {
   "cell_type": "code",
   "execution_count": null,
   "metadata": {},
   "outputs": [],
   "source": [
    "device = torch.device(\"cuda:0\")\n",
    "model = network.FullyConvNet_25()\n",
    "# model = nn.DataParallel(model)\n",
    "# model.cuda()\n",
    "model.to(device)\n",
    "\n",
    "criterion_2 = nn.MSELoss()\n",
    "criterion_1 = nn.SmoothL1Loss()\n",
    "\n",
    "# optimizer = optim.SGD(model.parameters(), lr=1e-9)\n",
    "optimizer = optim.Adam(model.parameters(), lr=1e-6)"
   ]
  },
  {
   "cell_type": "code",
   "execution_count": null,
   "metadata": {
    "scrolled": true
   },
   "outputs": [],
   "source": [
    "num_epochs = 10000\n",
    "for epoch in range(num_epochs):\n",
    "    for batch_idx, sample in enumerate(dataloader):\n",
    "        inputs,target = sample['input'].to(device),sample['output'].to(device)\n",
    "#         inputs,target = sample['input'].cuda(),sample['output'].cuda()\n",
    "        \n",
    "#         inputs = Variable(x_train).cuda()\n",
    "#         target = Variable(y_train).cuda()\n",
    "\n",
    "        # forward\n",
    "        out = model(inputs)\n",
    "        loss = torch.max(criterion_1(out, target),criterion_2(out, target))\n",
    "        # backward\n",
    "        optimizer.zero_grad()\n",
    "        loss.backward()\n",
    "        optimizer.step()\n",
    "\n",
    "    if epoch < 100:\n",
    "        print('Epoch[{}/{}], loss: {:.6f}'\n",
    "              .format(epoch+1, num_epochs, loss.data[0]))\n",
    "    elif (epoch+1) % 100 == 0:\n",
    "        print('Epoch[{}/{}], loss: {:.6f}'\n",
    "              .format(epoch+1, num_epochs, loss.data[0]))\n"
   ]
  },
  {
   "cell_type": "code",
   "execution_count": null,
   "metadata": {
    "scrolled": true
   },
   "outputs": [],
   "source": [
    "model.eval()"
   ]
  },
  {
   "cell_type": "code",
   "execution_count": null,
   "metadata": {},
   "outputs": [],
   "source": [
    "# print(len(training_dataset),len(testing_dataset))\n",
    "# print(training_dataset)"
   ]
  },
  {
   "cell_type": "code",
   "execution_count": null,
   "metadata": {},
   "outputs": [],
   "source": [
    "# train_data = np.asarray(np.transpose(train_input_dataset[:100,:,:,:],(0,1,2,3)),dtype=np.float32)\n",
    "# train_data = torch.from_numpy(train_data)\n",
    "# predict = model(train_data.to(device))\n",
    "# predict_train = predict.data.cpu().numpy()"
   ]
  },
  {
   "cell_type": "code",
   "execution_count": null,
   "metadata": {},
   "outputs": [],
   "source": [
    "# print(predict_train.shape)"
   ]
  },
  {
   "cell_type": "code",
   "execution_count": null,
   "metadata": {},
   "outputs": [],
   "source": [
    "# plt.imshow(predict_train[20,0,:,:])"
   ]
  },
  {
   "cell_type": "code",
   "execution_count": null,
   "metadata": {},
   "outputs": [],
   "source": [
    "# plt.imshow(train_output_dataset[20,:,:])"
   ]
  },
  {
   "cell_type": "code",
   "execution_count": null,
   "metadata": {},
   "outputs": [],
   "source": [
    "# plt.imshow(train_input_dataset[20,190,:,:])"
   ]
  },
  {
   "cell_type": "code",
   "execution_count": null,
   "metadata": {},
   "outputs": [],
   "source": [
    "path = './data/'\n",
    "filename = 'dataset_test.mat'\n",
    "test_input_dataset,test_output_dataset = load_data.load_dataset(path,filename)"
   ]
  },
  {
   "cell_type": "code",
   "execution_count": null,
   "metadata": {},
   "outputs": [],
   "source": [
    "test_data = np.asarray(np.transpose(test_input_dataset[:4,:25,:,:],(0,1,2,3)),dtype=np.float32)\n",
    "test_data = torch.from_numpy(test_data)\n",
    "predict = model(test_data.to(device))\n",
    "predict_test = predict.data.cpu().numpy()\n",
    "print(predict_test.shape)"
   ]
  },
  {
   "cell_type": "code",
   "execution_count": null,
   "metadata": {},
   "outputs": [],
   "source": [
    "plt.imshow(predict_test[1,0,:,:])"
   ]
  },
  {
   "cell_type": "code",
   "execution_count": null,
   "metadata": {},
   "outputs": [],
   "source": [
    "plt.imshow(test_output_dataset[1,:,:])"
   ]
  },
  {
   "cell_type": "code",
   "execution_count": null,
   "metadata": {},
   "outputs": [],
   "source": [
    "plt.imshow(test_input_dataset[3,4,:,:])"
   ]
  },
  {
   "cell_type": "code",
   "execution_count": null,
   "metadata": {},
   "outputs": [],
   "source": []
  }
 ],
 "metadata": {
  "kernelspec": {
   "display_name": "Python 3",
   "language": "python",
   "name": "python3"
  },
  "language_info": {
   "codemirror_mode": {
    "name": "ipython",
    "version": 3
   },
   "file_extension": ".py",
   "mimetype": "text/x-python",
   "name": "python",
   "nbconvert_exporter": "python",
   "pygments_lexer": "ipython3",
   "version": "3.5.0"
  }
 },
 "nbformat": 4,
 "nbformat_minor": 2
}
