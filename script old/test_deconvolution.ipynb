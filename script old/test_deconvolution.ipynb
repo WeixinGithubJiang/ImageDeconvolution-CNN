{
 "cells": [
  {
   "cell_type": "code",
   "execution_count": 1,
   "metadata": {},
   "outputs": [],
   "source": [
    "import load_data \n",
    "import model_utils\n",
    "import run_network\n",
    "import network \n",
    "import matplotlib.pyplot as plt\n",
    "import numpy as np\n",
    "import torch\n",
    "import cv2 as cv\n",
    "import os\n",
    "from torch import nn, optim\n",
    "from torchvision import transforms, utils\n",
    "from torch.autograd import Variable\n",
    "from torch.utils.data import Dataset, DataLoader\n",
    "from skimage.measure import compare_ssim as ssim\n",
    "import csv\n",
    "%matplotlib inline"
   ]
  },
  {
   "cell_type": "code",
   "execution_count": null,
   "metadata": {},
   "outputs": [],
   "source": [
    "path = './data/'\n",
    "filename = 'dataset_batch_3.mat'\n",
    "train_input_dataset,train_output_dataset = load_data.load_dataset(path,filename)\n",
    "print(train_input_dataset.shape,train_output_dataset.shape)"
   ]
  },
  {
   "cell_type": "code",
   "execution_count": null,
   "metadata": {},
   "outputs": [],
   "source": [
    "path = './data/'\n",
    "filename = 'dataset_test.mat'\n",
    "test_input_dataset,test_output_dataset = load_data.load_dataset(path,filename)\n",
    "print(test_input_dataset.shape,test_output_dataset.shape)\n"
   ]
  },
  {
   "cell_type": "code",
   "execution_count": null,
   "metadata": {
    "scrolled": true
   },
   "outputs": [],
   "source": [
    "inputs_nums = [25,50,75,100,125,150,175,200]\n",
    "batch_size = 80\n",
    "device = torch.device(\"cuda:0\")\n",
    "for i in range(7,len(inputs_nums)):\n",
    "    training_dataset = load_data.DeconvolutionDataset(train_input_dataset,train_output_dataset,\n",
    "                                                  transform=transforms.Compose([load_data.ImageSelect(inputs_nums[i]),\n",
    "                                                                              load_data.ToTensor()]))\n",
    "    training_dataloader = DataLoader(training_dataset, batch_size=batch_size,shuffle=True, num_workers=6)\n",
    "\n",
    "    \n",
    "    if i == 0: \n",
    "        model = network.FullyConvNet_25()\n",
    "    elif i == 1:\n",
    "        model = network.FullyConvNet_50()\n",
    "    elif i == 2:\n",
    "        model = network.FullyConvNet_75()\n",
    "    elif i == 3:\n",
    "        model = network.FullyConvNet_100()\n",
    "    elif i == 4:\n",
    "        model = network.FullyConvNet_125()\n",
    "    elif i == 5:\n",
    "        model = network.FullyConvNet_150()\n",
    "    elif i == 6:\n",
    "        model = network.FullyConvNet_175()\n",
    "    elif i == 7:\n",
    "        model = network.FullyConvNet_200()\n",
    "    \n",
    "    model.to(device)\n",
    "\n",
    "    criterion = nn.SmoothL1Loss()\n",
    "\n",
    "    optimizer = optim.Adam(model.parameters(), lr=1e-6)\n",
    "    num_epochs = 5000\n",
    "\n",
    "    run_network.train(training_dataloader,model,criterion, optimizer, num_epochs,device)\n",
    "    \n",
    "    test_data = np.asarray(np.transpose(test_input_dataset[:4,:inputs_nums[i],:,:],(0,1,2,3)),dtype=np.float32)\n",
    "    test_data = torch.from_numpy(test_data)\n",
    "    \n",
    "    predict_test = run_network.test(test_data,model,device)\n",
    "\n",
    "    inputs = inputs_nums[i]\n",
    "    input_num = str(inputs)\n",
    "\n",
    "    save_path = './result/'\n",
    "    save_filename = 'result_psnr_ssim.csv'\n",
    "    psnr_value = ['psnr']\n",
    "    ssim_value = ['ssim']\n",
    "    psnr_value.append(inputs)\n",
    "    ssim_value.append(inputs)\n",
    "    run_network.save_result(save_path,input_num,psnr_value,ssim_value,predict_test,test_output_dataset,save_filename)"
   ]
  },
  {
   "cell_type": "code",
   "execution_count": null,
   "metadata": {},
   "outputs": [],
   "source": []
  },
  {
   "cell_type": "code",
   "execution_count": null,
   "metadata": {},
   "outputs": [],
   "source": [
    "# def train(train_loader,model,criterion, optimizer, num_epochs,device):\n",
    "#     model.train()\n",
    "#     for epoch in range(num_epochs):\n",
    "#         for batch_idx, sample in enumerate(train_loader):\n",
    "#             inputs,target = sample['input'].to(device),sample['output'].to(device)\n",
    "\n",
    "#             # forward\n",
    "#             out = model(inputs)\n",
    "#             loss = criterion(out, target)\n",
    "#             # backward\n",
    "#             optimizer.zero_grad()\n",
    "#             loss.backward()\n",
    "#             optimizer.step()\n",
    "\n",
    "#         if epoch < 100:\n",
    "#             print('Epoch[{}/{}], loss: {:.6f}'\n",
    "#                   .format(epoch+1, num_epochs, loss.data[0]))\n",
    "#         elif (epoch+1) % 100 == 0:\n",
    "#             print('Epoch[{}/{}], loss: {:.6f}'\n",
    "#                   .format(epoch+1, num_epochs, loss.data[0]))"
   ]
  },
  {
   "cell_type": "code",
   "execution_count": null,
   "metadata": {},
   "outputs": [],
   "source": [
    "# device = torch.device(\"cuda:0\")\n",
    "# model = network.FullyConvNet_25()\n",
    "# # model = nn.DataParallel(model)\n",
    "# # model.cuda()\n",
    "# model.to(device)\n",
    "\n",
    "# # criterion_2 = nn.MSELoss()\n",
    "# criterion = nn.SmoothL1Loss()\n",
    "\n",
    "# # optimizer = optim.SGD(model.parameters(), lr=1e-9)\n",
    "# optimizer = optim.Adam(model.parameters(), lr=1e-6)\n",
    "# num_epochs = 5000"
   ]
  },
  {
   "cell_type": "code",
   "execution_count": null,
   "metadata": {},
   "outputs": [],
   "source": [
    "# train(training_dataloader,model,criterion, optimizer, num_epochs,device)"
   ]
  },
  {
   "cell_type": "code",
   "execution_count": null,
   "metadata": {},
   "outputs": [],
   "source": [
    "# def test(test_data,model,device):\n",
    "#     model.eval()\n",
    "#     predict = model(test_data.to(device))\n",
    "#     predict_test = predict.data.cpu().numpy()\n",
    "#     return predict_test"
   ]
  },
  {
   "cell_type": "code",
   "execution_count": null,
   "metadata": {},
   "outputs": [],
   "source": [
    "# \"\"\"\n",
    "# Video Quality Metrics\n",
    "# Copyright (c) 2014 Alex Izvorski <aizvorski@gmail.com>\n",
    "\n",
    "# This program is free software: you can redistribute it and/or modify\n",
    "# it under the terms of the GNU General Public License as published by\n",
    "# the Free Software Foundation, either version 3 of the License, or\n",
    "# (at your option) any later version.\n",
    "\n",
    "# This program is distributed in the hope that it will be useful,\n",
    "# but WITHOUT ANY WARRANTY; without even the implied warranty of\n",
    "# MERCHANTABILITY or FITNESS FOR A PARTICULAR PURPOSE.  See the\n",
    "# GNU General Public License for more details.\n",
    "\n",
    "# You should have received a copy of the GNU General Public License\n",
    "# along with this program.  If not, see <http://www.gnu.org/licenses/>.\n",
    "# \"\"\"\n",
    "\n",
    "# import numpy\n",
    "# import math\n",
    "\n",
    "# def psnr(img1, img2):\n",
    "#     mse = numpy.mean( (img1 - img2) ** 2 )\n",
    "#     if mse == 0:\n",
    "#         return 100\n",
    "#     PIXEL_MAX = 255.0\n",
    "#     return 20 * math.log10(PIXEL_MAX / math.sqrt(mse))"
   ]
  },
  {
   "cell_type": "code",
   "execution_count": null,
   "metadata": {},
   "outputs": [],
   "source": [
    "# predict_test = test(test_data,model,device)"
   ]
  },
  {
   "cell_type": "code",
   "execution_count": null,
   "metadata": {},
   "outputs": [],
   "source": [
    "# def normalize_image(img):\n",
    "#     return img/(img.max()-img.min())*255"
   ]
  },
  {
   "cell_type": "code",
   "execution_count": null,
   "metadata": {},
   "outputs": [],
   "source": [
    "# inputs = 25\n",
    "# input_num = str(inputs)\n",
    "\n",
    "# save_path = './result/'\n",
    "# save_filename = 'result_psnr_ssim.csv'\n",
    "# psnr_value = ['psnr']\n",
    "# ssim_value = ['ssim']\n",
    "# psnr_value.append(inputs)\n",
    "# ssim_value.append(inputs)\n",
    "# def save_result(save_path,input_num,psnr_value,ssim_value,input_num):\n",
    "#     filepath = os.path.join(save_path,input_num)\n",
    "#     if not os.path.exists(filepath):\n",
    "#         os.makedirs(filepath)\n",
    "#     for i in range(4):\n",
    "#         filename = 'test_predict_'+str(i)+'.png'\n",
    "#         cv.imwrite(os.path.join(filepath,filename),normalize_image(predict_test[i,0,:,:]))\n",
    "#         psnr_value.append('%.4f' % psnr(normalize_image(predict_test[i,0,:,:]),normalize_image(test_output_dataset[i,:,:])))\n",
    "#         ssim_value.append('%.4f' % ssim(normalize_image(predict_test[i,0,:,:]),normalize_image(test_output_dataset[i,:,:]),data_range=255))\n",
    "#     metric_value = [psnr_value,ssim_value]\n",
    "#     if not os.path.isfile(os.path.join(save_path,save_filename)):\n",
    "#         myfile = open(os.path.join(save_path,save_filename),'w')\n",
    "#     else:\n",
    "#         myfile = open(os.path.join(save_path,save_filename),'a')\n",
    "#     with myfile:\n",
    "#         writer = csv.writer(myfile)\n",
    "#         writer.writerows(metric_value)\n",
    "#     myfile.close()\n",
    "        "
   ]
  },
  {
   "cell_type": "code",
   "execution_count": null,
   "metadata": {},
   "outputs": [],
   "source": [
    "# inputs = 25\n",
    "# save_path = './result/'\n",
    "# input_num = str(inputs)\n",
    "# if not os.path.exists(os.path.join(save_path,input_num)):\n",
    "#         os.makedirs(os.path.join(save_path,input_num))"
   ]
  },
  {
   "cell_type": "code",
   "execution_count": null,
   "metadata": {},
   "outputs": [],
   "source": [
    "# filepath = os.path.join(save_path,input_num)\n",
    "# psnr_value = ['psnr']\n",
    "# ssim_value = ['ssim']\n",
    "# psnr_value.append(inputs)\n",
    "# ssim_value.append(inputs)\n",
    "# for i in range(4):\n",
    "#     filename = 'test_predict_'+str(i)+'.png'\n",
    "#     cv.imwrite(os.path.join(filepath,filename),normalize_image(predict_test[i,0,:,:]))\n",
    "#     psnr_value.append('%.4f' % psnr(normalize_image(predict_test[i,0,:,:]),normalize_image(test_output_dataset[i,:,:])))\n",
    "#     ssim_value.append('%.4f' % ssim(normalize_image(predict_test[i,0,:,:]),normalize_image(test_output_dataset[i,:,:]),data_range=255))\n",
    "    \n",
    "# metric_value = [psnr_value,ssim_value]\n",
    "# save_filename = 'result_psnr_ssim.csv'\n",
    "# if not os.path.isfile(os.path.join(save_path,save_filename)):\n",
    "#     myfile = open(os.path.join(save_path,save_filename),'w')\n",
    "# else:\n",
    "#     myfile = open(os.path.join(save_path,save_filename),'a')\n",
    "# with myfile:\n",
    "#     writer = csv.writer(myfile)\n",
    "#     writer.writerows(metric_value)\n",
    "# myfile.close()"
   ]
  },
  {
   "cell_type": "code",
   "execution_count": null,
   "metadata": {},
   "outputs": [],
   "source": [
    "# print(ssim_value)"
   ]
  },
  {
   "cell_type": "code",
   "execution_count": null,
   "metadata": {},
   "outputs": [],
   "source": [
    "# plt.imshow(predict_test[1,0,:,:])\n",
    "# predict_test[1,0,:,:].max()"
   ]
  },
  {
   "cell_type": "code",
   "execution_count": null,
   "metadata": {},
   "outputs": [],
   "source": [
    "# plt.imshow(test_output_dataset[1,:,:])"
   ]
  },
  {
   "cell_type": "code",
   "execution_count": null,
   "metadata": {},
   "outputs": [],
   "source": [
    "# psnr(predict_test[0,0,:,:]/np.max(predict_test[1,0,:,:]),test_output_dataset[0,:,:]/np.max(test_output_dataset[0,:,:]))"
   ]
  },
  {
   "cell_type": "code",
   "execution_count": null,
   "metadata": {},
   "outputs": [],
   "source": [
    "# np.max(predict_test[1,0,:,:])"
   ]
  },
  {
   "cell_type": "code",
   "execution_count": null,
   "metadata": {},
   "outputs": [],
   "source": [
    "# plt.imshow(test_output_dataset[1,:,:]-predict_test[1,0,:,:])"
   ]
  },
  {
   "cell_type": "code",
   "execution_count": null,
   "metadata": {},
   "outputs": [],
   "source": [
    "# a = test_output_dataset[1,:,:]-predict_test[1,0,:,:]"
   ]
  },
  {
   "cell_type": "code",
   "execution_count": null,
   "metadata": {},
   "outputs": [],
   "source": [
    "# np.max(abs(a))"
   ]
  },
  {
   "cell_type": "code",
   "execution_count": null,
   "metadata": {},
   "outputs": [],
   "source": []
  },
  {
   "cell_type": "code",
   "execution_count": null,
   "metadata": {},
   "outputs": [],
   "source": [
    "# ssim(test_output_dataset[1,:,:],predict_test[1,0,:,:],data_range=predict_test[1,0,:,:].max()-predict_test[1,0,:,:].min())"
   ]
  },
  {
   "cell_type": "code",
   "execution_count": null,
   "metadata": {},
   "outputs": [],
   "source": [
    "# ssim(test_output_dataset[1,:,:],test_output_dataset[1,:,:],data_range=test_output_dataset[1,:,:].max()-test_output_dataset[1,:,:].min())"
   ]
  },
  {
   "cell_type": "code",
   "execution_count": null,
   "metadata": {},
   "outputs": [],
   "source": [
    "# def mse(img1,img2):\n",
    "#     mse = numpy.mean( (img1 - img2) ** 2 )\n",
    "#     return mse"
   ]
  },
  {
   "cell_type": "code",
   "execution_count": null,
   "metadata": {},
   "outputs": [],
   "source": [
    "# mse(predict_test[0,0,:,:],test_output_dataset[0,:,:])"
   ]
  },
  {
   "cell_type": "code",
   "execution_count": null,
   "metadata": {},
   "outputs": [],
   "source": [
    "# def normalize_image(img):\n",
    "#     return img/(img.max()-img.min())*255"
   ]
  },
  {
   "cell_type": "code",
   "execution_count": null,
   "metadata": {},
   "outputs": [],
   "source": [
    "# pred = normalize_image(predict_test[1,0,:,:])\n",
    "# plt.imshow(pred)"
   ]
  },
  {
   "cell_type": "code",
   "execution_count": null,
   "metadata": {},
   "outputs": [],
   "source": [
    "# gt = normalize_image(test_output_dataset[1,:,:])\n",
    "# plt.imshow(gt)"
   ]
  },
  {
   "cell_type": "code",
   "execution_count": null,
   "metadata": {},
   "outputs": [],
   "source": [
    "# mse(gt,pred)"
   ]
  },
  {
   "cell_type": "code",
   "execution_count": null,
   "metadata": {},
   "outputs": [],
   "source": [
    "# psnr(gt,pred)"
   ]
  },
  {
   "cell_type": "code",
   "execution_count": null,
   "metadata": {},
   "outputs": [],
   "source": [
    "# ssim(gt,pred,data_range=255)"
   ]
  },
  {
   "cell_type": "code",
   "execution_count": null,
   "metadata": {},
   "outputs": [],
   "source": []
  }
 ],
 "metadata": {
  "kernelspec": {
   "display_name": "Python 3",
   "language": "python",
   "name": "python3"
  },
  "language_info": {
   "codemirror_mode": {
    "name": "ipython",
    "version": 3
   },
   "file_extension": ".py",
   "mimetype": "text/x-python",
   "name": "python",
   "nbconvert_exporter": "python",
   "pygments_lexer": "ipython3",
   "version": "3.5.0"
  }
 },
 "nbformat": 4,
 "nbformat_minor": 2
}
