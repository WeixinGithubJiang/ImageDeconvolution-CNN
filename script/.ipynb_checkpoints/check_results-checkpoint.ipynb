{
 "cells": [
  {
   "cell_type": "code",
   "execution_count": 1,
   "metadata": {},
   "outputs": [],
   "source": [
    "import os\n",
    "script_name = 'run_script.ipynb'\n",
    "dir_path = os.path.dirname(os.path.realpath(script_name))\n",
    "parent_path = os.path.dirname(dir_path)\n",
    "savemodel_path = os.path.join(parent_path,'model')\n",
    "loaddata_path = os.path.join(parent_path,'data')\n",
    "headfile_path = os.path.join(parent_path,'headfile')"
   ]
  },
  {
   "cell_type": "code",
   "execution_count": 2,
   "metadata": {},
   "outputs": [],
   "source": [
    "import sys\n",
    "sys.path.append(savemodel_path)\n",
    "sys.path.append(loaddata_path)\n",
    "sys.path.append(headfile_path)"
   ]
  },
  {
   "cell_type": "code",
   "execution_count": 3,
   "metadata": {},
   "outputs": [],
   "source": [
    "from load_data import TOF_SM_Dataset,ToTensor\n",
    "from build_network import TEST_NET_1,FULLY_CONV_NET\n",
    "from model_utils import load_model,save_model\n",
    "from run_network import train, test,train_onebyone\n",
    "import matplotlib.pyplot as plt\n",
    "import numpy as np\n",
    "import torch\n",
    "import cv2 as cv\n",
    "import os\n",
    "from torch import nn, optim\n",
    "from torchvision import transforms, utils\n",
    "from torch.autograd import Variable\n",
    "from torch.utils.data import Dataset, DataLoader\n",
    "from skimage.measure import compare_ssim as ssim\n",
    "import csv\n",
    "%matplotlib inline"
   ]
  },
  {
   "cell_type": "code",
   "execution_count": 4,
   "metadata": {},
   "outputs": [
    {
     "name": "stdout",
     "output_type": "stream",
     "text": [
      "2000\n"
     ]
    }
   ],
   "source": [
    "path = os.path.join(loaddata_path,'tr_dataset_10um_100')\n",
    "input_channel = 100\n",
    "batch_size = 10\n",
    "training_dataset = TOF_SM_Dataset(path, dataset_type = 'single',\n",
    "                                  input_name='input',output_name='output', \n",
    "                                  transform=ToTensor())\n",
    "training_dataloader = DataLoader(training_dataset, batch_size=batch_size,shuffle=True, num_workers=6)\n",
    "training_datasize = len(training_dataset)\n",
    "print(training_datasize)"
   ]
  },
  {
   "cell_type": "code",
   "execution_count": 5,
   "metadata": {},
   "outputs": [],
   "source": [
    "device = torch.device(\"cuda:1\")"
   ]
  },
  {
   "cell_type": "code",
   "execution_count": null,
   "metadata": {},
   "outputs": [],
   "source": [
    "model = FULLY_CONV_NET(input_channel)\n",
    "model.to(device)\n",
    "\n",
    "criterion = nn.MSELoss()\n",
    "lr_init = 1e-4\n",
    "lr = lr_init\n",
    "lr_stop = 1e-10\n",
    "lr_decay = 0.1\n",
    "optimizer = optim.Adam(model.parameters(), lr=lr)\n",
    "num_epochs = 10000"
   ]
  },
  {
   "cell_type": "code",
   "execution_count": null,
   "metadata": {
    "scrolled": true
   },
   "outputs": [
    {
     "name": "stdout",
     "output_type": "stream",
     "text": [
      "Epoch[1/10000], loss: 0.188708\n"
     ]
    },
    {
     "name": "stderr",
     "output_type": "stream",
     "text": [
      "/home/weixin/anaconda3/lib/python3.5/site-packages/ipykernel_launcher.py:11: UserWarning: invalid index of a 0-dim tensor. This will be an error in PyTorch 0.5. Use tensor.item() to convert a 0-dim tensor to a Python number\n",
      "  # This is added back by InteractiveShellApp.init_path()\n"
     ]
    },
    {
     "name": "stdout",
     "output_type": "stream",
     "text": [
      "Epoch[2/10000], loss: 0.112806\n",
      "Epoch[3/10000], loss: 0.383426\n",
      "Epoch[4/10000], loss: 0.109291\n",
      "Epoch[5/10000], loss: 0.101331\n",
      "Epoch[6/10000], loss: 0.084369\n",
      "Epoch[7/10000], loss: 0.067834\n",
      "Epoch[8/10000], loss: 0.073864\n",
      "Epoch[9/10000], loss: 0.124061\n",
      "Epoch[10/10000], loss: 0.061821\n",
      "Epoch[11/10000], loss: 0.070143\n",
      "Epoch[12/10000], loss: 0.048127\n",
      "Epoch[13/10000], loss: 0.048926\n",
      "Epoch[14/10000], loss: 0.149467\n",
      "Epoch[15/10000], loss: 0.042279\n",
      "Epoch[16/10000], loss: 0.033739\n",
      "Epoch[17/10000], loss: 0.043854\n",
      "Epoch[18/10000], loss: 0.031303\n",
      "Epoch[19/10000], loss: 0.036818\n",
      "Epoch[20/10000], loss: 0.023575\n",
      "Epoch[21/10000], loss: 0.038993\n",
      "Epoch[22/10000], loss: 0.027032\n",
      "Epoch[23/10000], loss: 0.026916\n",
      "Epoch[24/10000], loss: 0.020160\n",
      "Epoch[25/10000], loss: 0.018905\n",
      "Epoch[26/10000], loss: 0.016510\n",
      "Epoch[27/10000], loss: 0.019468\n",
      "Epoch[28/10000], loss: 0.013666\n",
      "Epoch[29/10000], loss: 0.016720\n",
      "Epoch[30/10000], loss: 0.014923\n",
      "Epoch[31/10000], loss: 0.010514\n",
      "Epoch[32/10000], loss: 0.011893\n",
      "Epoch[33/10000], loss: 0.011220\n",
      "Epoch[34/10000], loss: 0.013716\n",
      "Epoch[35/10000], loss: 0.008921\n",
      "Epoch[36/10000], loss: 0.007951\n",
      "Epoch[37/10000], loss: 0.008476\n",
      "Epoch[38/10000], loss: 0.006004\n",
      "Epoch[39/10000], loss: 0.008311\n",
      "Epoch[40/10000], loss: 0.006475\n",
      "Epoch[41/10000], loss: 0.009023\n",
      "Epoch[42/10000], loss: 0.007291\n",
      "Epoch[43/10000], loss: 0.008455\n",
      "Epoch[44/10000], loss: 0.006783\n",
      "Epoch[45/10000], loss: 0.005426\n",
      "Epoch[46/10000], loss: 0.004908\n",
      "Epoch[47/10000], loss: 0.005417\n",
      "Epoch[48/10000], loss: 0.004331\n",
      "Epoch[49/10000], loss: 0.003882\n",
      "Epoch[50/10000], loss: 0.003691\n",
      "Epoch[51/10000], loss: 0.003726\n",
      "Epoch[52/10000], loss: 0.003808\n",
      "Epoch[53/10000], loss: 0.002783\n",
      "Epoch[54/10000], loss: 0.008884\n",
      "Epoch[55/10000], loss: 0.003180\n",
      "Epoch[56/10000], loss: 0.003557\n",
      "Epoch[57/10000], loss: 0.003938\n",
      "Epoch[58/10000], loss: 0.002688\n",
      "Epoch[59/10000], loss: 0.001765\n",
      "Epoch[60/10000], loss: 1.752340\n",
      "Epoch[61/10000], loss: 0.010195\n",
      "Epoch[62/10000], loss: 0.004826\n",
      "Epoch[63/10000], loss: 0.002912\n",
      "Epoch[64/10000], loss: 0.003132\n",
      "Epoch[65/10000], loss: 0.003082\n",
      "Epoch[66/10000], loss: 0.003626\n",
      "Epoch[67/10000], loss: 0.002226\n",
      "Epoch[68/10000], loss: 0.002963\n",
      "Epoch[69/10000], loss: 0.002581\n",
      "Epoch[70/10000], loss: 0.002463\n",
      "Epoch[71/10000], loss: 0.004226\n",
      "Epoch[72/10000], loss: 0.002232\n",
      "Epoch[73/10000], loss: 0.001957\n",
      "Epoch[74/10000], loss: 0.003234\n",
      "Epoch[75/10000], loss: 0.002831\n",
      "Epoch[76/10000], loss: 0.002030\n",
      "Epoch[77/10000], loss: 0.019465\n",
      "Epoch[78/10000], loss: 0.002146\n",
      "Epoch[79/10000], loss: 0.002987\n",
      "Epoch[80/10000], loss: 0.002015\n",
      "Epoch[81/10000], loss: 0.001892\n",
      "Epoch[82/10000], loss: 0.001918\n",
      "Epoch[83/10000], loss: 0.001444\n",
      "Epoch[84/10000], loss: 0.002395\n",
      "Epoch[85/10000], loss: 0.001943\n",
      "Epoch[86/10000], loss: 0.002252\n",
      "Epoch[87/10000], loss: 0.002279\n",
      "Epoch[88/10000], loss: 0.003376\n",
      "Epoch[89/10000], loss: 0.002369\n",
      "Epoch[90/10000], loss: 0.001957\n",
      "Epoch[91/10000], loss: 0.002983\n",
      "Epoch[92/10000], loss: 0.001437\n",
      "Epoch[93/10000], loss: 0.001726\n",
      "Epoch[94/10000], loss: 0.001225\n",
      "Epoch[95/10000], loss: 0.002301\n",
      "Epoch[96/10000], loss: 0.001624\n",
      "Epoch[97/10000], loss: 0.001338\n",
      "Epoch[98/10000], loss: 0.001797\n",
      "Epoch[99/10000], loss: 0.001775\n",
      "Epoch[100/10000], loss: 0.002577\n",
      "Epoch[200/10000], loss: 0.001010\n",
      "Epoch[300/10000], loss: 0.000983\n",
      "Epoch[400/10000], loss: 0.002807\n",
      "Epoch[500/10000], loss: 0.001428\n",
      "model saved as/home/weixin/Documents/DeepLearning/Tensorflow_sample/2018summer/deconvolution/model/inputs_100dataset_2000_FULLY_CONV_NET/inputs_100dataset_2000epoch_499_FULLY_CONV_NET.pth\n",
      "Epoch[600/10000], loss: 0.000948\n",
      "Epoch[700/10000], loss: 0.001538\n",
      "Epoch[800/10000], loss: 0.001220\n",
      "Epoch[900/10000], loss: 0.001467\n",
      "Epoch[1000/10000], loss: 0.001081\n",
      "model saved as/home/weixin/Documents/DeepLearning/Tensorflow_sample/2018summer/deconvolution/model/inputs_100dataset_2000_FULLY_CONV_NET/inputs_100dataset_2000epoch_999_FULLY_CONV_NET.pth\n",
      "Epoch[1100/10000], loss: 0.001314\n",
      "Epoch[1200/10000], loss: 0.000774\n",
      "Epoch[1300/10000], loss: 0.001747\n",
      "Epoch[1400/10000], loss: 0.001165\n",
      "Epoch[1500/10000], loss: 0.000502\n",
      "model saved as/home/weixin/Documents/DeepLearning/Tensorflow_sample/2018summer/deconvolution/model/inputs_100dataset_2000_FULLY_CONV_NET/inputs_100dataset_2000epoch_1499_FULLY_CONV_NET.pth\n",
      "Epoch[1600/10000], loss: 0.001414\n",
      "Epoch[1700/10000], loss: 0.000953\n",
      "Epoch[1800/10000], loss: 0.001379\n",
      "Epoch[1900/10000], loss: 0.001510\n",
      "Epoch[2000/10000], loss: 0.001629\n",
      "model saved as/home/weixin/Documents/DeepLearning/Tensorflow_sample/2018summer/deconvolution/model/inputs_100dataset_2000_FULLY_CONV_NET/inputs_100dataset_2000epoch_1999_FULLY_CONV_NET.pth\n",
      "Epoch[2100/10000], loss: 0.001793\n",
      "Epoch[2200/10000], loss: 0.001351\n",
      "Epoch[2300/10000], loss: 0.001136\n",
      "Epoch[2400/10000], loss: 0.001401\n",
      "Epoch[2500/10000], loss: 0.000980\n",
      "model saved as/home/weixin/Documents/DeepLearning/Tensorflow_sample/2018summer/deconvolution/model/inputs_100dataset_2000_FULLY_CONV_NET/inputs_100dataset_2000epoch_2499_FULLY_CONV_NET.pth\n",
      "Epoch[2600/10000], loss: 0.001625\n",
      "Epoch[2700/10000], loss: 0.001087\n",
      "Epoch[2800/10000], loss: 0.001686\n",
      "Epoch[2900/10000], loss: 0.001938\n"
     ]
    }
   ],
   "source": [
    "NET_NAME = 'FULLY_CONV_NET'\n",
    "dirname = 'inputs_'+str(input_channel)+'dataset_'+str(training_datasize)+'_'+NET_NAME\n",
    "if not os.path.exists(os.path.join(savemodel_path,dirname)):\n",
    "    os.makedirs(os.path.join(savemodel_path,dirname))\n",
    "    \n",
    "loss_store = []\n",
    "loss_comparison_len = 20\n",
    "start_ratio = 3\n",
    "for epoch in range(num_epochs):\n",
    "    tmp_loss = train_onebyone(training_dataloader,model,criterion, optimizer,device)\n",
    "    tmp_loss = tmp_loss.data[0]\n",
    "    if len(loss_store) > start_ratio*loss_comparison_len:\n",
    "        if np.mean(loss_store[-20:]) < tmp_loss:\n",
    "            loss_store = []\n",
    "            lr = lr*lr_decay\n",
    "            if lr < lr_stop:\n",
    "                print('converge!!!!!!')\n",
    "                break\n",
    "            optimizer = optim.Adam(model.parameters(), lr=lr)\n",
    "        else:\n",
    "            loss_store.append(tmp_loss)\n",
    "    if epoch < 100: \n",
    "        print('Epoch[{}/{}], loss: {:.6f}'\n",
    "                  .format(epoch+1, num_epochs, tmp_loss))\n",
    "    elif (epoch+1) % 100 == 0:\n",
    "        print('Epoch[{}/{}], loss: {:.6f}'\n",
    "                  .format(epoch+1, num_epochs, tmp_loss))\n",
    "    if (epoch+1) % 500 == 0:\n",
    "        filename = 'inputs_'+str(input_channel)+'dataset_'+str(training_datasize)+'epoch_'+str(epoch)+'_'+NET_NAME+'.pth'\n",
    "        save_model(model, optimizer, path = os.path.join(savemodel_path,dirname), filename=filename) "
   ]
  },
  {
   "cell_type": "code",
   "execution_count": null,
   "metadata": {},
   "outputs": [],
   "source": [
    "# train(train_loader=training_dataloader,model=model,criterion=criterion, optimizer=optimizer, num_epochs=num_epochs,\n",
    "#       device=device, path = savemodel_path, input_channel=input_channel,training_datasize=training_datasize,NET_NAME='TEST_NET_1')"
   ]
  },
  {
   "cell_type": "code",
   "execution_count": null,
   "metadata": {},
   "outputs": [],
   "source": [
    "test_path = os.path.join(loaddata_path,'t_dataset_10um_100')\n",
    "testing_dataset = TOF_SM_Dataset(test_path, dataset_type = 'single',input_name='input',output_name='output',transform=ToTensor())\n",
    "testing_datasize = len(testing_dataset)\n",
    "testing_dataloader = DataLoader(testing_dataset, batch_size=testing_datasize,shuffle=False, num_workers=1)"
   ]
  },
  {
   "cell_type": "code",
   "execution_count": null,
   "metadata": {},
   "outputs": [],
   "source": [
    "predict_test,gt_test = test(testing_dataloader,model,device)"
   ]
  },
  {
   "cell_type": "code",
   "execution_count": null,
   "metadata": {},
   "outputs": [],
   "source": [
    "plt.imshow(predict_test[1,0])"
   ]
  },
  {
   "cell_type": "code",
   "execution_count": null,
   "metadata": {},
   "outputs": [],
   "source": [
    "plt.imshow(gt_test[1,0])"
   ]
  },
  {
   "cell_type": "code",
   "execution_count": null,
   "metadata": {},
   "outputs": [],
   "source": []
  }
 ],
 "metadata": {
  "kernelspec": {
   "display_name": "Python 3",
   "language": "python",
   "name": "python3"
  },
  "language_info": {
   "codemirror_mode": {
    "name": "ipython",
    "version": 3
   },
   "file_extension": ".py",
   "mimetype": "text/x-python",
   "name": "python",
   "nbconvert_exporter": "python",
   "pygments_lexer": "ipython3",
   "version": "3.5.0"
  }
 },
 "nbformat": 4,
 "nbformat_minor": 2
}
